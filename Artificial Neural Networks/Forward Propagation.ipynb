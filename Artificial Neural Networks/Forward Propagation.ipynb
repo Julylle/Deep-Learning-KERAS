{
 "cells": [
  {
   "cell_type": "code",
   "execution_count": 7,
   "metadata": {},
   "outputs": [
    {
     "name": "stdout",
     "output_type": "stream",
     "text": [
      "The outputs of the nodes in hidden layer number 1 is [0.6085, 0.6972, 0.6289]\n",
      "The outputs of the nodes in hidden layer number 2 is [0.8265, 0.8555]\n",
      "The outputs of the nodes in hidden layer number 3 is [0.6905, 0.6291, 0.8552]\n",
      "The predicted value by the network for the given input is 0.8304\n"
     ]
    }
   ],
   "source": [
    "import numpy as np\n",
    "from random import seed\n",
    "\n",
    "n = 2\n",
    "num_hidden_layers = 3\n",
    "m = [3,2,3]\n",
    "num_output_layers = 1\n",
    "\n",
    "\n",
    "def create_network(num_inputs, num_hidden_layers, num_nodes_hidden, num_nodes_output):\n",
    "    num_nodes_previous = num_inputs\n",
    "    network = {}\n",
    "    \n",
    "    for layer in range(num_hidden_layers + 1):\n",
    "        \n",
    "        if layer == num_hidden_layers:\n",
    "            layer_name = 'output'\n",
    "            num_nodes = num_nodes_output\n",
    "        else:\n",
    "            layer_name = 'layer_{}'.format(layer+1)\n",
    "            num_nodes = num_nodes_hidden[layer]\n",
    "        \n",
    "        \n",
    "        # initialize weights and bias for each node\n",
    "        network[layer_name]={}\n",
    "        for node in range(num_nodes):\n",
    "            node_name= 'node_{}'.format(node+1)\n",
    "            network[layer_name][node_name] = {\n",
    "                'weights': np.around(np.random.uniform(size=num_nodes_previous), decimals=2),\n",
    "                'bias': np.around(np.random.uniform(size=1),decimals=2) ,\n",
    "            }\n",
    "            \n",
    "        num_nodes_previous = num_nodes\n",
    "        \n",
    "    return network\n",
    "\n",
    "\n",
    "def compute_weighted_sum(inputs,weights,bias):\n",
    "    return np.sum(inputs * weights) + bias\n",
    "\n",
    "def node_activation(weighted_sum):\n",
    "    return 1.0 / (1.0 + np.exp(-1.0 * weighted_sum))\n",
    "\n",
    "\n",
    "def forward_propagation(network,inputs):\n",
    "    layer_inputs = list(inputs)\n",
    "    \n",
    "    for layer in network:\n",
    "        layer_data = network[layer]\n",
    "        layer_outputs = []\n",
    "        \n",
    "        for layer_node in layer_data:\n",
    "            node_data = layer_data[layer_node]\n",
    "            node_output = node_activation(compute_weighted_sum(layer_inputs,node_data['weights'],node_data['bias']))\n",
    "            layer_outputs.append(np.around(node_output[0],decimals=4))\n",
    "            \n",
    "        if layer != 'output':\n",
    "            print('The outputs of the nodes in hidden layer number {} is {}'.format(layer.split('_')[1], layer_outputs))\n",
    "        \n",
    "        layer_inputs = layer_outputs\n",
    "        \n",
    "    \n",
    "    predictions = layer_outputs\n",
    "    return predictions\n",
    "        \n",
    "    \n",
    "    \n",
    "    \n",
    "    \n",
    "small_network = create_network(n,num_hidden_layers,m,num_output_layers)\n",
    "\n",
    "#creating random input according to network inputs\n",
    "np.random.seed(12)\n",
    "inputs = np.around(np.random.uniform(size=n), decimals = 2)\n",
    "\n",
    "# Predictions and printing\n",
    "predictions = forward_propagation(small_network,inputs)\n",
    "print('The predicted value by the network for the given input is {}'.format(np.around(predictions[0], decimals=4)))\n",
    "\n",
    "\n",
    "#YOU COULD CHANGE THE VALUES AT THE TOP AND NETWORK WILL CHANGE AUTOMATICALLY"
   ]
  },
  {
   "cell_type": "code",
   "execution_count": null,
   "metadata": {
    "jupyter": {
     "source_hidden": true
    }
   },
   "outputs": [],
   "source": []
  }
 ],
 "metadata": {
  "kernelspec": {
   "display_name": "Python",
   "language": "python",
   "name": "conda-env-python-py"
  },
  "language_info": {
   "codemirror_mode": {
    "name": "ipython",
    "version": 3
   },
   "file_extension": ".py",
   "mimetype": "text/x-python",
   "name": "python",
   "nbconvert_exporter": "python",
   "pygments_lexer": "ipython3",
   "version": "3.6.7"
  }
 },
 "nbformat": 4,
 "nbformat_minor": 4
}
